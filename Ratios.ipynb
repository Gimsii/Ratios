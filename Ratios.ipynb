{
 "cells": [
  {
   "cell_type": "code",
   "execution_count": 111,
   "metadata": {},
   "outputs": [],
   "source": [
    "import numpy as np\n",
    "import pandas as pd\n",
    "import matplotlib.pyplot as plt\n",
    "import yfinance as yf\n",
    "import scipy.stats"
   ]
  },
  {
   "cell_type": "code",
   "execution_count": 112,
   "metadata": {},
   "outputs": [],
   "source": [
    "#Will cover Sharpe, Sortino and Probabilistic Sharpe Ratio (PRS)"
   ]
  },
  {
   "cell_type": "code",
   "execution_count": 113,
   "metadata": {},
   "outputs": [],
   "source": [
    "#First cover the Sharpe Ratio\n",
    "# Specifically daily Sharpe Ratio\n",
    "# Need to calculate the mean daily return and standard deviation "
   ]
  },
  {
   "cell_type": "code",
   "execution_count": 114,
   "metadata": {},
   "outputs": [
    {
     "name": "stdout",
     "output_type": "stream",
     "text": [
      "[*********************100%***********************]  1 of 1 completed\n"
     ]
    }
   ],
   "source": [
    "aapl = yf.download(\"AAPL\", start=\"2015-12-31\",end='2021-08-28')"
   ]
  },
  {
   "cell_type": "code",
   "execution_count": 115,
   "metadata": {},
   "outputs": [],
   "source": [
    "def sharpe_ratio(data, risk_free_rate = 0):\n",
    "    \n",
    "    data['Daily Return'] = data['Adj Close'].pct_change(1)\n",
    "    data = data.dropna()\n",
    "    mean_portfolio_return = data['Daily Return'].mean()\n",
    "    \n",
    "    sigma = data['Daily Return'].std()\n",
    "    \n",
    "    sharpe_ratio = (mean_portfolio_return - risk_free_rate)/sigma\n",
    "    return sharpe_ratio"
   ]
  },
  {
   "cell_type": "code",
   "execution_count": 116,
   "metadata": {},
   "outputs": [
    {
     "data": {
      "text/plain": [
       "0.07745263781223559"
      ]
     },
     "execution_count": 116,
     "metadata": {},
     "output_type": "execute_result"
    }
   ],
   "source": [
    "sharpe_ratio(aapl)"
   ]
  },
  {
   "cell_type": "code",
   "execution_count": 117,
   "metadata": {},
   "outputs": [],
   "source": [
    "def sortino_ratio(data, threshold, risk_free_rate = 0):\n",
    "    \n",
    "    data['Daily Return'] = data['Adj Close'].pct_change(1)\n",
    "    data = data.dropna()\n",
    "    mean_asset_return = data['Daily Return'].mean()\n",
    "    \n",
    "    downside_risk = data[data['Daily Return'] < threshold]['Daily Return']\n",
    "    sigma = downside_risk.std()\n",
    "    \n",
    "    sortino_ratio = (mean_asset_return - risk_free_rate)/sigma\n",
    "    \n",
    "    return sortino_ratio\n",
    "    "
   ]
  },
  {
   "cell_type": "code",
   "execution_count": 118,
   "metadata": {},
   "outputs": [
    {
     "data": {
      "text/plain": [
       "0.10164613451265682"
      ]
     },
     "execution_count": 118,
     "metadata": {},
     "output_type": "execute_result"
    }
   ],
   "source": [
    "sortino_ratio(aapl, threshold = 0)"
   ]
  },
  {
   "cell_type": "code",
   "execution_count": 119,
   "metadata": {},
   "outputs": [],
   "source": [
    "def probabilistic_sharpe(data, benchmark=0):\n",
    "    \n",
    "    SR = sharpe_ratio(data)\n",
    "    \n",
    "    data = data.dropna()\n",
    "    \n",
    "    skew = scipy.stats.skew(data['Daily Return'])\n",
    "    \n",
    "    kurtosis = scipy.stats.kurtosis(data['Daily Return'])\n",
    "    \n",
    "    n = len(data)\n",
    "    \n",
    "    sigma = ( (1 / (n-1)) * (1 + 0.5 * SR ** 2 - skew * SR + (kurtosis / 4) * SR ** 2)) ** 0.5\n",
    "    \n",
    "    probabilistic_sharpe_ratio = scipy.stats.norm.cdf((SR - benchmark)/sigma)\n",
    "    \n",
    "    return probabilistic_sharpe_ratio"
   ]
  },
  {
   "cell_type": "code",
   "execution_count": 120,
   "metadata": {},
   "outputs": [
    {
     "data": {
      "text/plain": [
       "0.998088155815426"
      ]
     },
     "execution_count": 120,
     "metadata": {},
     "output_type": "execute_result"
    }
   ],
   "source": [
    "probabilistic_sharpe(aapl)"
   ]
  },
  {
   "cell_type": "code",
   "execution_count": null,
   "metadata": {},
   "outputs": [],
   "source": []
  },
  {
   "cell_type": "code",
   "execution_count": null,
   "metadata": {},
   "outputs": [],
   "source": []
  }
 ],
 "metadata": {
  "kernelspec": {
   "display_name": "Python 3",
   "language": "python",
   "name": "python3"
  },
  "language_info": {
   "codemirror_mode": {
    "name": "ipython",
    "version": 3
   },
   "file_extension": ".py",
   "mimetype": "text/x-python",
   "name": "python",
   "nbconvert_exporter": "python",
   "pygments_lexer": "ipython3",
   "version": "3.8.3"
  }
 },
 "nbformat": 4,
 "nbformat_minor": 4
}
